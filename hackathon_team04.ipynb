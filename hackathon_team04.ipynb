{
  "nbformat": 4,
  "nbformat_minor": 0,
  "metadata": {
    "colab": {
      "name": "hackathon_team04",
      "version": "0.3.2",
      "provenance": [],
      "collapsed_sections": [],
      "toc_visible": true,
      "include_colab_link": true
    },
    "kernelspec": {
      "name": "python3",
      "display_name": "Python 3"
    },
    "accelerator": "GPU"
  },
  "cells": [
    {
      "cell_type": "markdown",
      "metadata": {
        "id": "view-in-github",
        "colab_type": "text"
      },
      "source": [
        "<a href=\"https://colab.research.google.com/github/llowoll/2019_cau_oss_hackathon/blob/master/hackathon_team04.ipynb\" target=\"_parent\"><img src=\"https://colab.research.google.com/assets/colab-badge.svg\" alt=\"Open In Colab\"/></a>"
      ]
    },
    {
      "cell_type": "markdown",
      "metadata": {
        "id": "1AosAX9DXOlc",
        "colab_type": "text"
      },
      "source": [
        "# **0. 해커톤 진행 주의사항**\n",
        "\n",
        "**1)  개발 관련 주의사항**\n",
        "*   [1. 초기 환경 설정]은 절대 수정하지 말 것\n",
        " *  단, 사용할 데이터셋에 따라 is_mnist만 수정\n",
        "*   모든 구현은 [2. 데이터 전처리]와 [3. 모델 생성]에서만 진행\n",
        " *  데이터 전처리 후 트레이닝, 데이터 셋은 x_train_after, x_test_after 변수명을 유지해주세요.\n",
        " *  데이터셋이 달라져도 같은 모델 구조를 유지하여야함.\n",
        "*   [4. 모델 저장]과 [5. 모델 로드 및 평가]에서 team_name 변수 변경 (예.`team_name = 'team01'`)\n",
        " *  트레이닝 중간에 checkpoint를 활용하여 모델을 저장한 경우에도 파일 이름 양식 통일 필수\n",
        " *  team_name을 제외한 다른 부분은 수정하지 말 것\n",
        "*   Colab 사용중 실수로 데이터 손실이 발생할 수도 있으니 중간 결과값을 github에 업로드 \n",
        " *    \"런타임->모든 런타임 재설정\"은 절대 누르지 말 것 (저장한 모델 데이터가 모두 삭제됨)\n",
        "*   효율적인 구현 및 테스팅을 위해 GPU 가속 기능 활성화\n",
        " *    \"런타임 -> 런타임 유형변경 -> 하드웨어 가속기 -> GPU 설정\"\n",
        "*   주석을 최대한 자세히 작성\n",
        "*   Keras API 관련하여 [Keras Documentation](https://keras.io/) 참조\n",
        "\n",
        "**2) 제출 관련 주의사항**\n",
        "*  제출물\n",
        " *  소스코드 (hackathon_teamXX.ipynb)\n",
        " *  모델 구조 파일 (model_structure_teamXX.json)\n",
        " *  모델 weight 파일 (model_weight_teamXX.h5)\n",
        " *  컴파일된 모델 파일 (model_entire_teamXX.h5)\n",
        "* 제출 기한: **오후 6시**\n",
        "* 제출 방법: [GitHub README](https://github.com/cauosshackathonta/2019_cau_oss_hackathon/) 참조\n",
        "\n",
        " \n",
        "**3) 평가 관련 주의사항**\n",
        "*  모델 성능 = 테스트 데이터 셋 분류 정확도\n",
        " *  model.evaluate(x_test, y_test)\n",
        "*  제출된 모델들의 테스트 데이터 셋 분류 정확도를 기준으로 수상작 결정\n",
        "*  수상 후보들에 대해서는 소스코드를 기반으로 모델 재검증 \n",
        " \n",
        "**4) 수상 실격 사유**\n",
        "*  유사한 소스코드 or 알고리즘이 적발될 경우\n",
        "*  소스코드와 제출된 모델이 상이한 경우\n",
        "*  두 개의 데이터셋에 대해 다른 모델 구조를 사용한 경우\n",
        "*  개발 관련 주의사항을 지키지 않은 경우\n",
        " *  예: [초기 환경 설정]을 수정한 경우\n",
        "*  데이터 셋을 변조한 경우\n",
        " *  예. 테스트 데이터 셋을 트레이닝 데이터 셋에 포함하여 모델 생성 \n",
        "*  주석이 소스코드와 맞지 않거나 미비할 경우\n",
        "\n",
        "\n",
        "\n",
        "\n"
      ]
    },
    {
      "cell_type": "markdown",
      "metadata": {
        "id": "67lwEXhUqys1",
        "colab_type": "text"
      },
      "source": [
        "# **1. 초기 환경 설정**\n",
        "\n"
      ]
    },
    {
      "cell_type": "code",
      "metadata": {
        "id": "Ms5PBBJ1qSC6",
        "colab_type": "code",
        "colab": {}
      },
      "source": [
        "from __future__ import absolute_import, division, print_function, unicode_literals, unicode_literals\n",
        "\n",
        "# tensorflow와 tf.keras 및 관련 라이브러리 임포트\n",
        "import tensorflow as tf\n",
        "from tensorflow import keras\n",
        "from keras.utils import np_utils\n",
        "\n",
        "import numpy as np\n",
        "\n",
        "is_mnist = False;\n",
        "\n",
        "# 데이터셋 로드\n",
        "# x_train, y_train: 트레이닝 데이터 및 레이블\n",
        "# x_test, y_test: 테스트 데이터 및 레이블\n",
        "if is_mnist:\n",
        "  data_type = 'mnist'\n",
        "  (x_train, y_train), (x_test, y_test) = keras.datasets.fashion_mnist.load_data() # fashion MNIST 데이터셋인 경우,\n",
        "else:\n",
        "  data_type = 'cifar10'\n",
        "  (x_train, y_train), (x_test, y_test) = keras.datasets.cifar10.load_data() # cifar10 데이터셋인 경우,\n",
        "\n",
        "\n",
        "# 분류를 위해 클래스 벡터를 바이너리 매트릭스로 변환\n",
        "y_train = np_utils.to_categorical(y_train)\n",
        "y_test = np_utils.to_categorical(y_test)\n",
        "\n",
        "# 총 클래스 개수\n",
        "num_classes = y_test.shape[1]\n",
        "\n",
        "# 인풋 데이터 타입\n",
        "input_shape = x_test.shape[1:]"
      ],
      "execution_count": 0,
      "outputs": []
    },
    {
      "cell_type": "markdown",
      "metadata": {
        "id": "p9c2KLDBIhNQ",
        "colab_type": "text"
      },
      "source": [
        "# **2. 데이터 전처리**\n"
      ]
    },
    {
      "cell_type": "code",
      "metadata": {
        "id": "zJNgjaHvIhSS",
        "colab_type": "code",
        "colab": {}
      },
      "source": [
        "# 데이터 전처리 (예: normalization)\n",
        "x_train_after = x_train / 255.0\n",
        "x_test_after = x_test / 255.0\n",
        "\n",
        "if is_mnist:\n",
        "  x_train_after = x_train_after.reshape(x_train_after.shape[0], 28, 28, 1)\n",
        "  x_test_after = x_test_after.reshape(x_test_after.shape[0], 28, 28, 1)\n",
        "  input_shape = x_test_after.shape[1:]"
      ],
      "execution_count": 0,
      "outputs": []
    },
    {
      "cell_type": "markdown",
      "metadata": {
        "id": "A-YjppJpXBO9",
        "colab_type": "text"
      },
      "source": [
        "# **3. 모델 생성**\n",
        "\n"
      ]
    },
    {
      "cell_type": "code",
      "metadata": {
        "id": "DZP4eRmRqgRp",
        "colab_type": "code",
        "colab": {
          "base_uri": "https://localhost:8080/",
          "height": 353
        },
        "outputId": "7e8e0db7-3dd6-485d-a272-51963e3139d5"
      },
      "source": [
        "# 순차 모델 생성\n",
        "model = keras.Sequential()\n",
        "\n",
        "# 1st hidden layer: convolutional-layer\n",
        "# (# of inputs = 28x28x1, # of outputs = 30x28x28x1, padding = same, activation function = leaky_relu)\n",
        "model.add(keras.layers.Conv2D(30, (3, 3), padding='same', activation=tf.nn.leaky_relu, input_shape=input_shape))\n",
        "\n",
        "# Normalize Batch\n",
        "model.add(keras.layers.BatchNormalization())\n",
        "\n",
        "# 2nd hidden layer: convolutional-layer\n",
        "# (#of inputs = 30x28x28x1, # of outputs = 30x28x28x1, padding = same, activation function = leak_relu)\n",
        "model.add(keras.layers.Conv2D(30, (3, 3), padding='same', activation=tf.nn.leaky_relu))\n",
        "\n",
        "# Normalize Batch\n",
        "model.add(keras.layers.BatchNormalization())\n",
        "\n",
        "# 3rd hidden layer: maxpool-layer\n",
        "# (#of inputs = 30x28x28x1, # of outputs = 30x14x14x1)\n",
        "model.add(keras.layers.MaxPooling2D(pool_size=(2, 2)))\n",
        "\n",
        "# 4th hidden layer: convolutional-layer\n",
        "# (#of inputs = 30x14x14x1, # of outputs = 35x14x14x1, padding = same, activation function = leak_relu)\n",
        "model.add(keras.layers.Conv2D(35, (3, 3), padding='same', activation=tf.nn.leaky_relu))\n",
        "\n",
        "# Normalize Batch\n",
        "model.add(keras.layers.BatchNormalization())\n",
        "\n",
        "# 5th hidden layer: convolutional-layer\n",
        "# (#of inputs = 35x14x14x1, # of outputs = 35x14x14x1, padding = same, activation function = leak_relu)\n",
        "model.add(keras.layers.Conv2D(35, (3, 3), padding='same', activation=tf.nn.leaky_relu))\n",
        "\n",
        "# Normalize Batch\n",
        "model.add(keras.layers.BatchNormalization())\n",
        "\n",
        "# 6th hidden layer: maxpool-layer\n",
        "# (#of inputs = 35x14x14x1, # of outputs = 35x7x7x1)\n",
        "model.add(keras.layers.MaxPooling2D(pool_size=(2, 2)))\n",
        "\n",
        "# 7th hidden layer: convolutional-layer\n",
        "# (#of inputs = 35x7x7x1, # of outputs = 40x7x7x1, padding = same, activation function = leak_relu)\n",
        "model.add(keras.layers.Conv2D(40, (3, 3), padding='same', activation=tf.nn.leaky_relu))\n",
        "\n",
        "# Normalize Batch\n",
        "model.add(keras.layers.BatchNormalization())\n",
        "\n",
        "# 8th hidden layer: convolutional-layer\n",
        "# (#of inputs = 40x7x7x1, # of outputs = 40x7x7x1, padding = same, activation function = leak_relu)\n",
        "model.add(keras.layers.Conv2D(40, (3, 3), padding='same', activation=tf.nn.leaky_relu))\n",
        "\n",
        "# Normalize Batch\n",
        "model.add(keras.layers.BatchNormalization())\n",
        "\n",
        "# 9th hidden layer: maxpool-layer\n",
        "# (#of inputs = 40x7x7x1, #of outputs = 40x4x4x1)\n",
        "model.add(keras.layers.MaxPooling2D(pool_size=(2, 2)))\n",
        "\n",
        "# Flatten layer: 40x4x4x1 to 640 1d vector layer\n",
        "model.add(keras.layers.Flatten())\n",
        "\n",
        "# 10th hidden layer: fully-connected layer\n",
        "# (#of inputs = 640, #of outputs = 128, activation function = leak_relu)\n",
        "model.add(keras.layers.Dense(128, activation=tf.nn.leaky_relu))\n",
        "\n",
        "# Normalize Batch\n",
        "model.add(keras.layers.BatchNormalization())\n",
        "\n",
        "# 11th hidden layer: fully-connected layer\n",
        "# (# of inputs = 128, # of outputs = 32, activation function = leak_relu)\n",
        "model.add(keras.layers.Dense(32, activation=tf.nn.leaky_relu))\n",
        "\n",
        "# Normalize Batch\n",
        "model.add(keras.layers.BatchNormalization())\n",
        "\n",
        "# Output layer: fully-connected layer\n",
        "# (# of inputs = 32, # of outputs = 10, activation funtction = leak_relu)\n",
        "model.add(keras.layers.Dense(num_classes, activation='softmax'))\n",
        "\n",
        "# Compile Model\n",
        "model.compile(loss='categorical_crossentropy', optimizer='adam', metrics=['accuracy'])\n",
        "\n",
        "# Flip Image Horizontally\n",
        "train_datagen = keras.preprocessing.image.ImageDataGenerator(horizontal_flip=True)\n",
        "\n",
        "# Train model\n",
        "model.fit_generator(\n",
        "    train_datagen.flow(x_train_after, y_train, batch_size = 16),\n",
        "    steps_per_epoch = 1000,\n",
        "    epochs = 20,\n",
        "    validation_data = (x_test_after, y_test),\n",
        "    validation_steps = 10)"
      ],
      "execution_count": 0,
      "outputs": [
        {
          "output_type": "stream",
          "text": [
            "Epoch 1/20\n",
            "1000/1000 [==============================] - 18s 18ms/step - loss: 1.5596 - acc: 0.4391 - val_loss: 1.6484 - val_acc: 0.4527\n",
            "Epoch 2/20\n",
            "1000/1000 [==============================] - 13s 13ms/step - loss: 1.2428 - acc: 0.5594 - val_loss: 1.1741 - val_acc: 0.5830\n",
            "Epoch 3/20\n",
            "1000/1000 [==============================] - 13s 13ms/step - loss: 1.0892 - acc: 0.6147 - val_loss: 1.2617 - val_acc: 0.5632\n",
            "Epoch 4/20\n",
            "1000/1000 [==============================] - 13s 13ms/step - loss: 0.9801 - acc: 0.6598 - val_loss: 0.9016 - val_acc: 0.6873\n",
            "Epoch 5/20\n",
            "1000/1000 [==============================] - 13s 13ms/step - loss: 0.9351 - acc: 0.6758 - val_loss: 0.9792 - val_acc: 0.6567\n",
            "Epoch 6/20\n",
            "1000/1000 [==============================] - 13s 13ms/step - loss: 0.9098 - acc: 0.6824 - val_loss: 0.8657 - val_acc: 0.7059\n",
            "Epoch 7/20\n",
            "1000/1000 [==============================] - 13s 13ms/step - loss: 0.8520 - acc: 0.7021 - val_loss: 0.9220 - val_acc: 0.6759\n",
            "Epoch 8/20\n",
            "1000/1000 [==============================] - 13s 13ms/step - loss: 0.8181 - acc: 0.7201 - val_loss: 0.8589 - val_acc: 0.7094\n",
            "Epoch 9/20\n",
            "1000/1000 [==============================] - 13s 13ms/step - loss: 0.8098 - acc: 0.7191 - val_loss: 0.7795 - val_acc: 0.7307\n",
            "Epoch 10/20\n",
            "1000/1000 [==============================] - 14s 14ms/step - loss: 0.7720 - acc: 0.7359 - val_loss: 0.7764 - val_acc: 0.7366\n",
            "Epoch 11/20\n",
            "1000/1000 [==============================] - 14s 14ms/step - loss: 0.7435 - acc: 0.7491 - val_loss: 0.7701 - val_acc: 0.7365\n",
            "Epoch 12/20\n",
            " 997/1000 [============================>.] - ETA: 0s - loss: 0.7308 - acc: 0.7526"
          ],
          "name": "stdout"
        }
      ]
    },
    {
      "cell_type": "markdown",
      "metadata": {
        "id": "QR9WUYXxqtfR",
        "colab_type": "text"
      },
      "source": [
        "# **4. 모델 저장**"
      ]
    },
    {
      "cell_type": "code",
      "metadata": {
        "id": "Wi9yznz4qvzK",
        "colab_type": "code",
        "colab": {}
      },
      "source": [
        "save_path = '/content/'\n",
        "team_name = 'team04'\n",
        "\n",
        "# 모델의 weight 값만 저장합니다.\n",
        "model.save_weights(save_path + 'model_weight_' + data_type + '_' + team_name + '.h5')\n",
        "\n",
        "# 모델의 구조만을 저장합니다.\n",
        "model_json = model.to_json()\n",
        "with open(save_path + 'model_structure_' + data_type + '_' + team_name + '.json', 'w') as json_file : \n",
        "    json_file.write(model_json)\n",
        "\n",
        "# 트레이닝된 전체 모델을 저장합니다.\n",
        "model.save(save_path +  'model_entire_' + data_type + '_' + team_name + '.h5')"
      ],
      "execution_count": 0,
      "outputs": []
    },
    {
      "cell_type": "markdown",
      "metadata": {
        "id": "1B2BoRDZ7cFl",
        "colab_type": "text"
      },
      "source": [
        "# **5. 모델 로드 및 평가**"
      ]
    },
    {
      "cell_type": "code",
      "metadata": {
        "id": "SDBwxVUx7knQ",
        "colab_type": "code",
        "colab": {}
      },
      "source": [
        "save_path = '/content/'\n",
        "team_name = 'team04'\n",
        "\n",
        "model = keras.models.load_model(save_path + 'model_entire_' + data_type + '_' + team_name + '.h5')\n",
        "model.evaluate(x_test_after, y_test)"
      ],
      "execution_count": 0,
      "outputs": []
    },
    {
      "cell_type": "code",
      "metadata": {
        "id": "oSgqEQ13mgG2",
        "colab_type": "code",
        "colab": {}
      },
      "source": [
        ""
      ],
      "execution_count": 0,
      "outputs": []
    }
  ]
}